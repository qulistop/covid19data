{
  "cells": [
    {
      "cell_type": "markdown",
      "metadata": {
        "id": "OkifGgYVB4eO"
      },
      "source": [
        "# Welcome to Covid19 Data Analysis Notebook\n",
        "------------------------------------------"
      ]
    },
    {
      "cell_type": "markdown",
      "source": [
        "##Learning Objectives\n",
        "1. Understanding Basic Google Colab\n",
        "2. Understanding Basic Data Analysis and Visualisation Using Python (Importing, Data Preprocessing, Correlation, Line Plot, Scatter Plot, Regression Plot)"
      ],
      "metadata": {
        "id": "zm1_JvTSr65V"
      }
    },
    {
      "cell_type": "markdown",
      "source": [
        "##Data Source\n",
        "1. John Hopkins University, https://github.com/CSSEGISandData/COVID-19\n",
        "2. Worldwide Happiness Report, https://worldhappiness.report/ed/2021/"
      ],
      "metadata": {
        "id": "q-Na4wG3bsJv"
      }
    },
    {
      "cell_type": "markdown",
      "metadata": {
        "id": "n7CaYctEB4eU"
      },
      "source": [
        "### Let's Import the modules \n",
        "\n",
        "1. Panda Python Data Analysis (User Guide): https://pandas.pydata.org/docs/user_guide/index.html\n",
        "2. Numpy Python Scientific Computing (User Doc): https://pandas.pydata.org/docs/user_guide/index.html\n",
        "3. Matplotlib Visualisation with Python (User Doc): https://matplotlib.org/stable/index.html\n",
        "4. Seaborn Statistical Data Visualisation (User Doc and Tutorial): https://seaborn.pydata.org/tutorial.html "
      ]
    },
    {
      "cell_type": "code",
      "execution_count": null,
      "metadata": {
        "colab": {
          "base_uri": "https://localhost:8080/"
        },
        "id": "BSlkoYgvB4eU",
        "outputId": "da0ddb81-7dfb-4a1c-980e-f94c5b0b0d33"
      },
      "outputs": [
        {
          "output_type": "stream",
          "name": "stdout",
          "text": [
            "Modules are imported.\n"
          ]
        }
      ],
      "source": [
        "import pandas as pd \n",
        "import numpy as np \n",
        "import matplotlib.pyplot as plt \n",
        "import seaborn as sns\n",
        "print('Modules are imported.')"
      ]
    },
    {
      "cell_type": "markdown",
      "metadata": {
        "id": "DUOJk7i8B4eX"
      },
      "source": [
        "## Task 2 "
      ]
    },
    {
      "cell_type": "markdown",
      "metadata": {
        "id": "wsyZNIwqB4eX"
      },
      "source": [
        "### Task 2.1: importing covid19 dataset and worldwide happiness report\n",
        "\n"
      ]
    },
    {
      "cell_type": "code",
      "execution_count": null,
      "metadata": {
        "id": "D3xK-UUJB4eY"
      },
      "outputs": [],
      "source": [
        "corona_dataset_csv = pd.read_csv(\"\")\n",
        "happiness_report_csv = pd.read_csv(\"\")\n"
      ]
    },
    {
      "cell_type": "markdown",
      "metadata": {
        "id": "FaIiDXkkB4eZ"
      },
      "source": [
        "#### Let's check the shape of the dataframe"
      ]
    },
    {
      "cell_type": "code",
      "execution_count": null,
      "metadata": {
        "colab": {
          "base_uri": "https://localhost:8080/"
        },
        "id": "s9i12urlB4eZ",
        "outputId": "97383beb-6676-4201-efc3-ef0468aee60b"
      },
      "outputs": [
        {
          "output_type": "stream",
          "name": "stdout",
          "text": [
            "(284, 793)\n",
            "(156, 9)\n"
          ]
        }
      ],
      "source": [
        "print(corona_dataset_csv.shape)\n"
      ]
    },
    {
      "cell_type": "markdown",
      "source": [
        "##Let's check the dataframe's content"
      ],
      "metadata": {
        "id": "CaRs46imgVRo"
      }
    },
    {
      "cell_type": "code",
      "source": [
        "display(corona_dataset_csv.head(corona_dataset_csv.shape[0]))"
      ],
      "metadata": {
        "id": "5NMr1Zg1gf-B"
      },
      "execution_count": null,
      "outputs": []
    },
    {
      "cell_type": "markdown",
      "metadata": {
        "id": "ezZsWvE4B4eZ"
      },
      "source": [
        "### Task 2.2: Delete the useless columns"
      ]
    },
    {
      "cell_type": "code",
      "execution_count": null,
      "metadata": {
        "id": "1KNBZWw1B4eZ"
      },
      "outputs": [],
      "source": [
        "happiness_report = happiness_report_csv.drop([\"Overall rank\", \"Score\", \"Generosity\", \"Perceptions of corruption\"], axis=1)"
      ]
    },
    {
      "cell_type": "markdown",
      "source": [
        "##Verify the dataframes"
      ],
      "metadata": {
        "id": "e_OlsGepiEiC"
      }
    },
    {
      "cell_type": "code",
      "execution_count": null,
      "metadata": {
        "id": "ITFu9axVB4ea"
      },
      "outputs": [],
      "source": [
        "display(corona_dataset.head(20))\n"
      ]
    },
    {
      "cell_type": "markdown",
      "metadata": {
        "id": "UoQa7vyzB4eb"
      },
      "source": [
        "### Task 2.3: Aggregating the rows by the country"
      ]
    },
    {
      "cell_type": "code",
      "execution_count": null,
      "metadata": {
        "id": "rhnUusQ8B4eb"
      },
      "outputs": [],
      "source": [
        "corona_dataset_aggregated = (\"Country/Region\")"
      ]
    },
    {
      "cell_type": "markdown",
      "source": [
        "##Verify the dataframe"
      ],
      "metadata": {
        "id": "UsZw1PaNieBh"
      }
    },
    {
      "cell_type": "markdown",
      "source": [
        "###The shape"
      ],
      "metadata": {
        "id": "MUETMOi5i678"
      }
    },
    {
      "cell_type": "code",
      "source": [
        ""
      ],
      "metadata": {
        "id": "276EyDUTi9Gp"
      },
      "execution_count": null,
      "outputs": []
    },
    {
      "cell_type": "markdown",
      "source": [
        "###The dataframe content"
      ],
      "metadata": {
        "id": "ZJaQUkBSjC-S"
      }
    },
    {
      "cell_type": "code",
      "execution_count": null,
      "metadata": {
        "id": "h59w1QKGB4ec"
      },
      "outputs": [],
      "source": [
        "corona_dataset_aggregated.head()"
      ]
    },
    {
      "cell_type": "markdown",
      "metadata": {
        "id": "ipcIOoCjB4ed"
      },
      "source": [
        "### Task 2.4: Visualizing data related to a country for example China and more countries\n",
        "visualization always helps for better understanding of our data."
      ]
    },
    {
      "cell_type": "code",
      "execution_count": null,
      "metadata": {
        "id": "kfUlnQi1B4ed"
      },
      "outputs": [],
      "source": [
        "corona_dataset_aggregated.loc[\"China\"].plot()\n",
        "\n",
        "plt.legend()\n",
        "plt.grid()\n"
      ]
    },
    {
      "cell_type": "markdown",
      "metadata": {
        "id": "Ky5ZfJ-fB4ee"
      },
      "source": [
        "### Task3: Calculating a good measure \n",
        "we need to find a good measure reperestend as a number, describing the spread of the virus in a country. "
      ]
    },
    {
      "cell_type": "code",
      "execution_count": null,
      "metadata": {
        "id": "0dF7SULnB4ee"
      },
      "outputs": [],
      "source": [
        "corona_dataset_aggregated.loc['Indonesia'][100:198].plot()"
      ]
    },
    {
      "cell_type": "code",
      "execution_count": null,
      "metadata": {
        "id": "UNEh9TzlB4ef"
      },
      "outputs": [],
      "source": [
        ""
      ]
    },
    {
      "cell_type": "markdown",
      "metadata": {
        "id": "Ifmq55_4B4ef"
      },
      "source": [
        "### Task 3.1: caculating the first derivative of the curve"
      ]
    },
    {
      "cell_type": "markdown",
      "source": [
        "###Let's visualise the rate of the confirmed case per day"
      ],
      "metadata": {
        "id": "Tt6T05--kGni"
      }
    },
    {
      "cell_type": "code",
      "execution_count": null,
      "metadata": {
        "id": "PuasXBT0B4eg"
      },
      "outputs": [],
      "source": [
        "corona_dataset_aggregated.loc[\"China\"].diff().plot()\n",
        "\n",
        "plt.grid()\n",
        "plt.legend()"
      ]
    },
    {
      "cell_type": "markdown",
      "source": [
        "###The rate of the confirmed case in number"
      ],
      "metadata": {
        "id": "SEHbRHdLkXGF"
      }
    },
    {
      "cell_type": "code",
      "source": [
        ""
      ],
      "metadata": {
        "id": "ebMZVNl-q5bK"
      },
      "execution_count": null,
      "outputs": []
    },
    {
      "cell_type": "markdown",
      "metadata": {
        "id": "ulOJA0v2B4eg"
      },
      "source": [
        "### task 3.2: find maxmimum and mean infection rate for China and Other Countries"
      ]
    },
    {
      "cell_type": "code",
      "execution_count": null,
      "metadata": {
        "id": "eZBmEAvUB4eg"
      },
      "outputs": [],
      "source": [
        "print(\"China Max Rate: \", corona_dataset_aggregated.loc[\"China\"].diff().max())\n",
        "print(\"China The Average Rate: \", corona_dataset_aggregated.loc[\"China\"].diff().mean())\n",
        "\n",
        "\n"
      ]
    },
    {
      "cell_type": "markdown",
      "metadata": {
        "id": "YN5oSnXKB4eh"
      },
      "source": [
        "### Task 3.3: find maximum and mean of the infection rate for all of the countries and add those data as new columns into the dataframe "
      ]
    },
    {
      "cell_type": "code",
      "execution_count": null,
      "metadata": {
        "id": "k4G6xmMDB4eh"
      },
      "outputs": [],
      "source": [
        "countries = list(corona_dataset_aggregated.index)\n",
        "max_infection_rates = []\n",
        "min_infection_rates = []\n",
        "mean_infection_rates = []\n",
        "for c in countries:\n",
        "  max_infection_rates.append(corona_dataset_aggregated.loc[c].diff().max())\n",
        "  mean_infection_rates.append(corona_dataset_aggregated.loc[c].diff().mean())\n",
        "\n",
        "corona_dataset_aggregated[\"max_infection_rate\"] = max_infection_rates\n",
        "corona_dataset_aggregated[\"mean_infection_rate\"] = mean_infection_rates\n",
        "corona_dataset_aggregated.head()"
      ]
    },
    {
      "cell_type": "markdown",
      "metadata": {
        "id": "rhhpZFqAB4ei"
      },
      "source": [
        "### Task 3.4: create a new dataframe with only needed column "
      ]
    },
    {
      "cell_type": "code",
      "execution_count": null,
      "metadata": {
        "id": "yhHXlbZdB4ei"
      },
      "outputs": [],
      "source": [
        "corona_data = corona_dataset_aggregated[\"max_infection_rate\"]"
      ]
    },
    {
      "cell_type": "code",
      "execution_count": null,
      "metadata": {
        "id": "luUXFMT4B4ej"
      },
      "outputs": [],
      "source": [
        ""
      ]
    },
    {
      "cell_type": "markdown",
      "metadata": {
        "id": "ZENubO0YB4ej"
      },
      "source": [
        "### Task4: Working with World Happiness Dataframe \n",
        "- join the datasets \n",
        "- calculate the correlations as the result of our analysis"
      ]
    },
    {
      "cell_type": "markdown",
      "source": [
        "### Task 4.1: Let's see again the dataframe"
      ],
      "metadata": {
        "id": "wKF1y2Cio3xb"
      }
    },
    {
      "cell_type": "code",
      "execution_count": null,
      "metadata": {
        "id": "Pc08dHBzB4em"
      },
      "outputs": [],
      "source": [
        ""
      ]
    },
    {
      "cell_type": "markdown",
      "metadata": {
        "id": "BklNQnroB4em"
      },
      "source": [
        "### Task 4.2: Changing the indices of the dataframe and verifying it"
      ]
    },
    {
      "cell_type": "code",
      "execution_count": null,
      "metadata": {
        "id": "DKjGL9uiB4en"
      },
      "outputs": [],
      "source": [
        "\"Country or region\"\n"
      ]
    },
    {
      "cell_type": "markdown",
      "metadata": {
        "id": "15uooG80B4en"
      },
      "source": [
        "### Task 4.3: now let's join two dataset we have prepared  "
      ]
    },
    {
      "cell_type": "markdown",
      "metadata": {
        "id": "8iTrSxeJB4en"
      },
      "source": [
        "#### Corona Dataset Shape :"
      ]
    },
    {
      "cell_type": "code",
      "execution_count": null,
      "metadata": {
        "id": "HoxqFQkdB4en"
      },
      "outputs": [],
      "source": [
        ""
      ]
    },
    {
      "cell_type": "markdown",
      "metadata": {
        "id": "hCwcD6ZFB4eo"
      },
      "source": [
        "#### World happiness report Dataset shape :"
      ]
    },
    {
      "cell_type": "code",
      "execution_count": null,
      "metadata": {
        "id": "60sbYT7bB4eo"
      },
      "outputs": [],
      "source": [
        ""
      ]
    },
    {
      "cell_type": "code",
      "execution_count": null,
      "metadata": {
        "id": "57UpwWmeB4ep"
      },
      "outputs": [],
      "source": [
        ""
      ]
    },
    {
      "cell_type": "markdown",
      "source": [
        "###Verify the new data frame"
      ],
      "metadata": {
        "id": "pcCL5T-zoj60"
      }
    },
    {
      "cell_type": "code",
      "source": [
        ""
      ],
      "metadata": {
        "id": "KwNtfSWlooSd"
      },
      "execution_count": null,
      "outputs": []
    },
    {
      "cell_type": "markdown",
      "metadata": {
        "id": "nnaiFroWB4ep"
      },
      "source": [
        "### Task 4.4: correlation matrix "
      ]
    },
    {
      "cell_type": "code",
      "execution_count": null,
      "metadata": {
        "id": "zjsQyNM-B4ep"
      },
      "outputs": [],
      "source": [
        ""
      ]
    },
    {
      "cell_type": "markdown",
      "metadata": {
        "id": "xT88pSdwB4ep"
      },
      "source": [
        "### Task 5: Visualization of the results\n",
        "our Analysis is not finished unless we visualize the results in terms figures and graphs so that everyone can understand what you get out of our analysis"
      ]
    },
    {
      "cell_type": "markdown",
      "metadata": {
        "id": "jtGkcHKhB4eq"
      },
      "source": [
        "### Task 5.1: Plotting GDP vs maximum Infection rate"
      ]
    },
    {
      "cell_type": "markdown",
      "source": [
        "###Set the axes data"
      ],
      "metadata": {
        "id": "qomYHwQ_p8_9"
      }
    },
    {
      "cell_type": "code",
      "execution_count": null,
      "metadata": {
        "id": "8Q2VpY-kB4eq"
      },
      "outputs": [],
      "source": [
        "x = data[\"GDP per capita\"]\n",
        "y = data[\"max_infection_rate\"]"
      ]
    },
    {
      "cell_type": "markdown",
      "source": [
        "###Scatter Plot"
      ],
      "metadata": {
        "id": "iCEkFMGyqMU6"
      }
    },
    {
      "cell_type": "code",
      "source": [
        "sns.scatterplot(x, np.log(y))"
      ],
      "metadata": {
        "id": "ehVzdwJFqGpF"
      },
      "execution_count": null,
      "outputs": []
    },
    {
      "cell_type": "markdown",
      "source": [
        "###Regression Plot"
      ],
      "metadata": {
        "id": "msIYCi5nqR8K"
      }
    },
    {
      "cell_type": "code",
      "execution_count": null,
      "metadata": {
        "id": "4ZRanAKmB4eq"
      },
      "outputs": [],
      "source": [
        "sns.regplot(x, np.log(y))"
      ]
    },
    {
      "cell_type": "markdown",
      "metadata": {
        "id": "Lc-j_yHTB4eq"
      },
      "source": [
        "### Task 5.2: Plotting Social support vs maximum Infection rate"
      ]
    },
    {
      "cell_type": "code",
      "execution_count": null,
      "metadata": {
        "id": "GokUfCfbB4eq"
      },
      "outputs": [],
      "source": [
        "\n"
      ]
    },
    {
      "cell_type": "code",
      "execution_count": null,
      "metadata": {
        "id": "R9MRZgLtB4eq"
      },
      "outputs": [],
      "source": [
        ""
      ]
    },
    {
      "cell_type": "markdown",
      "metadata": {
        "id": "U_TzYyxuB4eq"
      },
      "source": [
        "### Task 5.3: Plotting Healthy life expectancy vs maximum Infection rate"
      ]
    },
    {
      "cell_type": "code",
      "execution_count": null,
      "metadata": {
        "id": "VT3lA5YBB4eq"
      },
      "outputs": [],
      "source": [
        "\n"
      ]
    },
    {
      "cell_type": "code",
      "execution_count": null,
      "metadata": {
        "id": "6IscTTtUB4er"
      },
      "outputs": [],
      "source": [
        ""
      ]
    },
    {
      "cell_type": "markdown",
      "metadata": {
        "id": "gkrGg6WyB4er"
      },
      "source": [
        "### Task 5.4: Plotting Freedom to make life choices vs maximum Infection rate"
      ]
    },
    {
      "cell_type": "code",
      "execution_count": null,
      "metadata": {
        "id": "YeP94JhdB4er"
      },
      "outputs": [],
      "source": [
        ""
      ]
    },
    {
      "cell_type": "code",
      "execution_count": null,
      "metadata": {
        "id": "p5jRpI_rB4er"
      },
      "outputs": [],
      "source": [
        ""
      ]
    },
    {
      "cell_type": "code",
      "execution_count": null,
      "metadata": {
        "id": "qc18SpE9B4er"
      },
      "outputs": [],
      "source": [
        ""
      ]
    }
  ],
  "metadata": {
    "kernelspec": {
      "display_name": "Python 3.9 (tensorflow)",
      "language": "python",
      "name": "tensorflow"
    },
    "language_info": {
      "codemirror_mode": {
        "name": "ipython",
        "version": 3
      },
      "file_extension": ".py",
      "mimetype": "text/x-python",
      "name": "python",
      "nbconvert_exporter": "python",
      "pygments_lexer": "ipython3",
      "version": "3.9.7"
    },
    "colab": {
      "name": "intro covid analytic(learner).ipynb",
      "provenance": [],
      "collapsed_sections": [
        "Ifmq55_4B4ef",
        "ZENubO0YB4ej",
        "xT88pSdwB4ep",
        "jtGkcHKhB4eq"
      ]
    }
  },
  "nbformat": 4,
  "nbformat_minor": 0
}